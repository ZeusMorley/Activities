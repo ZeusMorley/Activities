{
 "cells": [
  {
   "cell_type": "code",
   "execution_count": 856,
   "metadata": {},
   "outputs": [],
   "source": [
    "import numpy as np\n",
    "import pandas as pd\n",
    "from sklearn.model_selection import train_test_split\n",
    "from sklearn.preprocessing import StandardScaler\n",
    "import matplotlib.pyplot as plt"
   ]
  },
  {
   "cell_type": "code",
   "execution_count": 857,
   "metadata": {},
   "outputs": [
    {
     "data": {
      "text/html": [
       "<div>\n",
       "<style scoped>\n",
       "    .dataframe tbody tr th:only-of-type {\n",
       "        vertical-align: middle;\n",
       "    }\n",
       "\n",
       "    .dataframe tbody tr th {\n",
       "        vertical-align: top;\n",
       "    }\n",
       "\n",
       "    .dataframe thead th {\n",
       "        text-align: right;\n",
       "    }\n",
       "</style>\n",
       "<table border=\"1\" class=\"dataframe\">\n",
       "  <thead>\n",
       "    <tr style=\"text-align: right;\">\n",
       "      <th></th>\n",
       "      <th>area</th>\n",
       "      <th>bathroom</th>\n",
       "      <th>classification</th>\n",
       "    </tr>\n",
       "  </thead>\n",
       "  <tbody>\n",
       "    <tr>\n",
       "      <th>0</th>\n",
       "      <td>2104</td>\n",
       "      <td>3</td>\n",
       "      <td>1</td>\n",
       "    </tr>\n",
       "    <tr>\n",
       "      <th>1</th>\n",
       "      <td>1600</td>\n",
       "      <td>3</td>\n",
       "      <td>1</td>\n",
       "    </tr>\n",
       "    <tr>\n",
       "      <th>2</th>\n",
       "      <td>2400</td>\n",
       "      <td>3</td>\n",
       "      <td>1</td>\n",
       "    </tr>\n",
       "    <tr>\n",
       "      <th>3</th>\n",
       "      <td>1416</td>\n",
       "      <td>2</td>\n",
       "      <td>0</td>\n",
       "    </tr>\n",
       "    <tr>\n",
       "      <th>4</th>\n",
       "      <td>3000</td>\n",
       "      <td>4</td>\n",
       "      <td>0</td>\n",
       "    </tr>\n",
       "    <tr>\n",
       "      <th>5</th>\n",
       "      <td>1985</td>\n",
       "      <td>4</td>\n",
       "      <td>1</td>\n",
       "    </tr>\n",
       "    <tr>\n",
       "      <th>6</th>\n",
       "      <td>1534</td>\n",
       "      <td>3</td>\n",
       "      <td>0</td>\n",
       "    </tr>\n",
       "    <tr>\n",
       "      <th>7</th>\n",
       "      <td>1427</td>\n",
       "      <td>3</td>\n",
       "      <td>1</td>\n",
       "    </tr>\n",
       "    <tr>\n",
       "      <th>8</th>\n",
       "      <td>1380</td>\n",
       "      <td>3</td>\n",
       "      <td>1</td>\n",
       "    </tr>\n",
       "    <tr>\n",
       "      <th>9</th>\n",
       "      <td>1494</td>\n",
       "      <td>3</td>\n",
       "      <td>1</td>\n",
       "    </tr>\n",
       "  </tbody>\n",
       "</table>\n",
       "</div>"
      ],
      "text/plain": [
       "   area  bathroom  classification\n",
       "0  2104         3               1\n",
       "1  1600         3               1\n",
       "2  2400         3               1\n",
       "3  1416         2               0\n",
       "4  3000         4               0\n",
       "5  1985         4               1\n",
       "6  1534         3               0\n",
       "7  1427         3               1\n",
       "8  1380         3               1\n",
       "9  1494         3               1"
      ]
     },
     "execution_count": 857,
     "metadata": {},
     "output_type": "execute_result"
    }
   ],
   "source": [
    "data = pd.read_csv('dataset.csv')\n",
    "data"
   ]
  },
  {
   "cell_type": "code",
   "execution_count": 858,
   "metadata": {},
   "outputs": [],
   "source": [
    "X = data[['area', 'bathroom']].values\n",
    "y = data['classification'].values"
   ]
  },
  {
   "cell_type": "code",
   "execution_count": 859,
   "metadata": {},
   "outputs": [],
   "source": [
    "X_train, X_test, y_train, y_test = train_test_split(X, y, test_size=0.2, random_state=9)\n",
    "\n",
    "# X_train and y_train are the training data\n",
    "# X_test and y_test are the test data\n",
    "# test_size = 0.2 means 20% of the data will be used for testing"
   ]
  },
  {
   "cell_type": "code",
   "execution_count": 860,
   "metadata": {},
   "outputs": [],
   "source": [
    "scaler = StandardScaler()\n",
    "X_train = scaler.fit_transform(X_train)\n",
    "X_test = scaler.transform(X_test)\n",
    "\n",
    "# Standardization scales the data to have a mean of 0 and a standard deviation of 1\n",
    "# Fit calculates the mean and std dev from the training data and applies\n",
    "# the transformation to standardize it.\n",
    "# Transform applies the same scaling parameters from the training data\n",
    "# to the test data"
   ]
  },
  {
   "cell_type": "code",
   "execution_count": 861,
   "metadata": {},
   "outputs": [],
   "source": [
    "np.random.seed(16) # Random seed for reproducibility"
   ]
  },
  {
   "cell_type": "code",
   "execution_count": 862,
   "metadata": {},
   "outputs": [],
   "source": [
    "# Weights from input layer to hidden layer\n",
    "W1 = np.random.randn(2, 4) * 0.01 # Small random values for weights\n",
    "\n",
    "# Bias for hidden layer 1 neurons initialized to zero\n",
    "b1 = np.zeros((1, 4))  "
   ]
  },
  {
   "cell_type": "code",
   "execution_count": 863,
   "metadata": {},
   "outputs": [],
   "source": [
    "# Weights from hidden layer to output layer\n",
    "W2 = np.random.randn(4, 1) * 0.01\n",
    "\n",
    "# Bias for output neuron initialized to zero\n",
    "b2 = np.zeros((1, 1)) "
   ]
  },
  {
   "cell_type": "code",
   "execution_count": 864,
   "metadata": {},
   "outputs": [
    {
     "name": "stdout",
     "output_type": "stream",
     "text": [
      "Initial Weights from Input to Hidden Layer (W1):\n",
      " [[ 0.00127949 -0.01528473 -0.00594468  0.0006633 ]\n",
      " [-0.01235495 -0.00621369 -0.00888948  0.0049891 ]]\n",
      "\n",
      "Initial Biases for Hidden Layer (b1):\n",
      " [[0. 0. 0. 0.]]\n",
      "\n",
      "Initial Weights from Hidden to Output Layer (W2):\n",
      " [[-0.00786897]\n",
      " [ 0.00118744]\n",
      " [-0.00756863]\n",
      " [ 0.00493367]]\n",
      "\n",
      "Initial Bias for Output Layer (b2):\n",
      " [[0.]]\n"
     ]
    }
   ],
   "source": [
    "# Display initialized Weights and Biases\n",
    "print(\"Initial Weights from Input to Hidden Layer (W1):\\n\", W1)\n",
    "print(\"\\nInitial Biases for Hidden Layer (b1):\\n\", b1)\n",
    "print(\"\\nInitial Weights from Hidden to Output Layer (W2):\\n\", W2)\n",
    "print(\"\\nInitial Bias for Output Layer (b2):\\n\", b2)"
   ]
  },
  {
   "cell_type": "code",
   "execution_count": 865,
   "metadata": {},
   "outputs": [],
   "source": [
    "# Loss and Activation functions\n",
    "def sigmoid(x):\n",
    "    return 1 / (1 + np.exp(-x))\n",
    "\n",
    "def sigmoid_derivative(x):\n",
    "    return x * (1 - x)\n",
    "\n",
    "def relu(x):\n",
    "    return np.maximum(0, x)\n",
    "\n",
    "def relu_derivative(x):\n",
    "    return np.where(x > 0, 1, 0)\n",
    "\n",
    "def mse_loss(y_true, y_pred):\n",
    "    return np.mean((y_true - y_pred) ** 2)"
   ]
  },
  {
   "cell_type": "code",
   "execution_count": 866,
   "metadata": {},
   "outputs": [],
   "source": [
    "learning_rate = 0.1\n",
    "epochs = 10000"
   ]
  },
  {
   "cell_type": "code",
   "execution_count": 867,
   "metadata": {},
   "outputs": [],
   "source": [
    "y_train = y_train.reshape(-1, 1)  # Reshape to (8, 1)"
   ]
  },
  {
   "cell_type": "code",
   "execution_count": 868,
   "metadata": {},
   "outputs": [],
   "source": [
    "loss_values = [] # to store loss values\n",
    "\n",
    "for epoch in range(epochs):\n",
    "    # Forward Pass\n",
    "    hidden_layer_input = np.dot(X_train, W1) + b1  # Input to hidden layer\n",
    "    hidden_layer_output = relu(hidden_layer_input)  # Activation for hidden layer\n",
    "    output_layer_input = np.dot(hidden_layer_output, W2) + b2  # Input to output layer\n",
    "    y_pred = sigmoid(output_layer_input)  # Activation for output layer\n",
    "\n",
    "    # Compute Loss\n",
    "    loss = mse_loss(y_train, y_pred)\n",
    "\n",
    "    if epoch % 50 == 0: # To make the graph look less jagged and show the overall trend\n",
    "        loss_values.append(loss)  # Store loss for plotting\n",
    "\n",
    "    # Backward Pass (Gradient Descent)\n",
    "    # Output Layer Gradients\n",
    "    output_error = y_train - y_pred\n",
    "    output_delta = output_error * sigmoid_derivative(y_pred)\n",
    "\n",
    "    # Hidden Layer Gradients\n",
    "    hidden_layer_error = output_delta.dot(W2.T)\n",
    "    hidden_layer_delta = hidden_layer_error * relu_derivative(hidden_layer_output)\n",
    "\n",
    "    # Update Weights and Biases\n",
    "    W2 += hidden_layer_output.T.dot(output_delta) * learning_rate\n",
    "    b2 += np.sum(output_delta, axis=0, keepdims=True) * learning_rate\n",
    "    W1 += X_train.T.dot(hidden_layer_delta) * learning_rate\n",
    "    b1 += np.sum(hidden_layer_delta, axis=0, keepdims=True) * learning_rate\n",
    "\n",
    "    # if epoch % 100 == 0:\n",
    "    #     print(f'Epoch {epoch}, Loss: {loss}')"
   ]
  },
  {
   "cell_type": "code",
   "execution_count": 869,
   "metadata": {},
   "outputs": [
    {
     "name": "stdout",
     "output_type": "stream",
     "text": [
      "Final predicted probabilities:\n",
      " [[9.70506949e-01]\n",
      " [1.00000000e+00]\n",
      " [9.64705920e-01]\n",
      " [9.33294294e-01]\n",
      " [1.94885745e-05]\n",
      " [1.00000000e+00]\n",
      " [7.71400690e-02]\n",
      " [1.00000000e+00]]\n",
      "\n",
      "Predicted classes (0 = Bad, 1 = Good): \n",
      " [[1]\n",
      " [1]\n",
      " [1]\n",
      " [1]\n",
      " [0]\n",
      " [1]\n",
      " [0]\n",
      " [1]]\n"
     ]
    }
   ],
   "source": [
    "threshold = 0.5 \n",
    "\n",
    "predictions = (y_pred >= threshold).astype(int)\n",
    "print(\"Final predicted probabilities:\\n\", y_pred)\n",
    "print(\"\\nPredicted classes (0 = Bad, 1 = Good): \\n\", predictions)"
   ]
  },
  {
   "cell_type": "code",
   "execution_count": 870,
   "metadata": {},
   "outputs": [
    {
     "data": {
      "image/png": "[encoded data removed]",
      "text/plain": [
       "<Figure size 640x480 with 1 Axes>"
      ]
     },
     "metadata": {},
     "output_type": "display_data"
    }
   ],
   "source": [
    "# Plot loss values during training\n",
    "plt.plot(loss_values)\n",
    "plt.title('Loss During Training')\n",
    "plt.xlabel('Epochs')\n",
    "plt.ylabel('Loss (MSE)')\n",
    "plt.grid()\n",
    "plt.show()"
   ]
  },
  {
   "cell_type": "code",
   "execution_count": 871,
   "metadata": {},
   "outputs": [
    {
     "name": "stdout",
     "output_type": "stream",
     "text": [
      "Final Weights from Input to Hidden Layer (W1):\n",
      "[[ 4.26233533  1.6543546   3.70717567  8.00778121]\n",
      " [-1.13215426 -0.43818159 -0.98444908  0.35323055]]\n",
      "Final Biases for Hidden Layer (b1):\n",
      "[[3.18266193 1.23439379 2.7660229  4.89551362]]\n",
      "Final Weights from Hidden to Output Layer (W2):\n",
      "[[-5.43731558]\n",
      " [-2.10956923]\n",
      " [-4.72784024]\n",
      " [ 9.30172907]]\n",
      "Final Bias for Output Layer (b2):\n",
      "[[3.49373461]]\n"
     ]
    }
   ],
   "source": [
    "print(\"Final Weights from Input to Hidden Layer (W1):\")\n",
    "print(W1)\n",
    "print(\"Final Biases for Hidden Layer (b1):\")\n",
    "print(b1)\n",
    "print(\"Final Weights from Hidden to Output Layer (W2):\")\n",
    "print(W2)\n",
    "print(\"Final Bias for Output Layer (b2):\")\n",
    "print(b2)\n"
   ]
  },
  {
   "cell_type": "code",
   "execution_count": 872,
   "metadata": {},
   "outputs": [],
   "source": [
    "new_properties = np.array([ # Example Properties\n",
    "    [1800, 2], \n",
    "    [1500, 3] \n",
    "    ])"
   ]
  },
  {
   "cell_type": "code",
   "execution_count": 873,
   "metadata": {},
   "outputs": [
    {
     "name": "stdout",
     "output_type": "stream",
     "text": [
      "Predicted Classifications for New Properties:\n",
      " [[1]\n",
      " [1]]\n"
     ]
    }
   ],
   "source": [
    "# Forward Pass for New Properties\n",
    "hidden_layer_input_new = np.dot(new_properties, W1) + b1\n",
    "hidden_layer_output_new = relu(hidden_layer_input_new)\n",
    "output_layer_input_new = np.dot(hidden_layer_output_new, W2) + b2\n",
    "y_pred_new = sigmoid(output_layer_input_new)  # Predicted probabilities\n",
    "\n",
    "# Classify based on threshold (e.g., 0.5)\n",
    "classifications = (y_pred_new > 0.5).astype(int)  # Converts probabilities to 0 or 1\n",
    "\n",
    "print(\"Predicted Classifications for New Properties:\\n\", classifications)\n"
   ]
  }
 ],
 "metadata": {
  "kernelspec": {
   "display_name": "CSC173_intelligentsystems-Nl_99WW7",
   "language": "python",
   "name": "python3"
  },
  "language_info": {
   "codemirror_mode": {
    "name": "ipython",
    "version": 3
   },
   "file_extension": ".py",
   "mimetype": "text/x-python",
   "name": "python",
   "nbconvert_exporter": "python",
   "pygments_lexer": "ipython3",
   "version": "3.12.4"
  }
 },
 "nbformat": 4,
 "nbformat_minor": 2
}
